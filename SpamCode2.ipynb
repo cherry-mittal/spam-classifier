{
 "cells": [
  {
   "cell_type": "code",
   "execution_count": 1,
   "id": "c9a77d88-1a3d-4fa7-931c-018ec34e2eb6",
   "metadata": {
    "collapsed": true,
    "jupyter": {
     "outputs_hidden": true
    }
   },
   "outputs": [
    {
     "name": "stdout",
     "output_type": "stream",
     "text": [
      "Requirement already satisfied: pandas in /opt/anaconda3/lib/python3.12/site-packages (2.2.2)\n",
      "Requirement already satisfied: numpy>=1.26.0 in /opt/anaconda3/lib/python3.12/site-packages (from pandas) (1.26.4)\n",
      "..."
     ]
    }
   ],
   "source": [
    "!pip install pandas\n",
    "!pip install numpy\n",
    "!pip install nltk\n",
    "!pip install scikit-learn xgboost"
   ]
  },
  {
   "cell_type": "code",
   "execution_count": 5,
   "id": "f9d0487e-4505-463a-bae1-cc1197f580f3",
   "metadata": {},
   "outputs": [
    {
     "name": "stderr",
     "output_type": "stream",
     "text": [
      "[nltk_data] Downloading package stopwords to\n",
      "[nltk_data]     /Users/chirag7363/nltk_data...\n",
      "[nltk_data]   Package stopwords is already up-to-date!\n",
      "[nltk_data] Downloading package wordnet to\n",
      "[nltk_data]     /Users/chirag7363/nltk_data...\n",
      "[nltk_data]   Package wordnet is already up-to-date!\n",
      "[nltk_data] Downloading package omw-1.4 to\n",
      "[nltk_data]     /Users/chirag7363/nltk_data...\n",
      "[nltk_data]   Package omw-1.4 is already up-to-date!\n"
     ]
    }
   ],
   "source": [
    "import pandas as pd\n",
    "import numpy as np\n",
    "import os\n",
    "import re\n",
    "import nltk\n",
    "nltk.download('stopwords')\n",
    "nltk.download('wordnet')\n",
    "nltk.download('omw-1.4')\n",
    "from sklearn.model_selection import train_test_split\n",
    "from sklearn.feature_extraction.text import TfidfVectorizer\n",
    "from sklearn.linear_model import LogisticRegression\n",
    "from sklearn.metrics import accuracy_score, classification_report\n",
    "from sklearn.ensemble import RandomForestClassifier\n",
    "from sklearn.naive_bayes import MultinomialNB\n",
    "from imblearn.over_sampling import SMOTE\n",
    "from nltk.corpus import stopwords\n",
    "from nltk.stem import WordNetLemmatizer\n",
    "from sklearn.metrics import ConfusionMatrixDisplay\n",
    "import matplotlib.pyplot as plt"
   ]
  },
  {
   "cell_type": "code",
   "execution_count": 7,
   "id": "ac8d7a88-afea-4624-983e-0558d642db38",
   "metadata": {
    "collapsed": true,
    "jupyter": {
     "outputs_hidden": true
    }
   },
   "outputs": [
    {
     "name": "stdout",
     "output_type": "stream",
     "text": [
      "<bound method NDFrame.head of      label                                               text\n",
      "0      ham  Go until jurong point, crazy.. Available only ...\n",
      "1      ham                      Ok lar... Joking wif u oni...\n",
      "2     spam  Free entry in 2 a wkly comp to win FA Cup fina...\n",
      "3      ham  U dun say so early hor... U c already then say...\n",
      "4      ham  Nah I don't think he goes to usf, he lives aro...\n",
      "...    ...                                                ...\n",
      "5567  spam  This is the 2nd time we have tried 2 contact u...\n",
      "5568   ham              Will Ì_ b going to esplanade fr home?\n",
      "5569   ham  Pity, * was in mood for that. So...any other s...\n",
      "5570   ham  The guy did some bitching but I acted like i'd...\n",
      "5571   ham                         Rofl. Its true to its name\n",
      "\n",
      "[5572 rows x 2 columns]>\n",
      "(5572, 1) (5572,)\n"
     ]
    }
   ],
   "source": [
    "#getting data from spam.csv file and storing it to X and y variable\n",
    "df = pd.read_csv('spam.csv', encoding='latin-1')\n",
    "df = df[['v1','v2']]\n",
    "df.columns = ['label', 'text']\n",
    "print(df.head)\n",
    "X = df['text'].values\n",
    "X = X.reshape(-1,1)\n",
    "y = df['label'].map({'ham' : 0, 'spam' : 1})\n",
    "print(X.shape, y.shape)"
   ]
  },
  {
   "cell_type": "code",
   "execution_count": 15,
   "id": "797f1f20-c508-46ec-85b3-2fc02b0725ec",
   "metadata": {
    "collapsed": true,
    "jupyter": {
     "outputs_hidden": true
    }
   },
   "outputs": [
    {
     "name": "stdout",
     "output_type": "stream",
     "text": [
      "x spam/0086.4b3a02be9a2561ada188d95b4601c01e\n",
      "x spam/0088.f421d8c380fb0c48483f026d243df9d9\n",
      "x spam/0089.51c746428bb5e2793a1c04ce1e0c72c1\n",
      "x spam/0090.9a7e76d58065e29e709161dbe569fe54\n",
      "x spam/0091.113ec7122d4046a2754bcf70b9fb5299\n",
      "..."
     ]
    }
   ],
   "source": [
    "# getting data from compressed tarrball file from spamAssassin website\n",
    "!tar -xvjf 20030228_hard_ham.tar.bz2\n",
    "!tar -xvjf 20030228_spam.tar.bz2\n",
    "!tar -xvjf 20030228_easy_ham.tar.bz2\n",
    "!tar -xvjf 20030228_spam_2.tar.bz2\n",
    "!tar -xvjf 20030228_easy_ham_2.tar.bz2\n",
    "!tar -xvjf 20050311_spam_2.tar.bz2\n",
    "!tar -xvjf 20021010_hard_ham.tar.bz2\n",
    "!tar -xvjf 20021010_easy_ham.tar.bz2\n",
    "!tar -xvjf 20021010_spam.tar.bz2"
   ]
  },
  {
   "cell_type": "code",
   "execution_count": 17,
   "id": "22237627-903d-453a-9a23-6aef2dde4e19",
   "metadata": {},
   "outputs": [],
   "source": [
    "#Data cleaning\n",
    "def clean_email(text):\n",
    "    text = re.sub(r'<.*?>', '', text)  # remove HTML\n",
    "    text = re.sub(r'[^a-zA-Z]', ' ', text)  # keep only letters\n",
    "    text = text.lower()\n",
    "    words = text.split()\n",
    "    words = [lemmatizer.lemmatize(w) for w in words if w not in stop_words]\n",
    "    return ' '.join(words)"
   ]
  },
  {
   "cell_type": "code",
   "execution_count": 13,
   "id": "3ded4ba2-6f43-4dcf-beb3-3051ff4041a5",
   "metadata": {},
   "outputs": [
    {
     "name": "stdout",
     "output_type": "stream",
     "text": [
      "9354 9354\n"
     ]
    }
   ],
   "source": [
    "#Getting emails and storing only the body part of the email\n",
    "ham_dir = \"hard_ham\"\n",
    "spam_dir = \"spam\"\n",
    "easy_ham = \"easy_ham\"\n",
    "easy_ham_2 = \"easy_ham_2\"\n",
    "spam_2 = \"spam_2\"\n",
    "stop_words = set(stopwords.words('english'))\n",
    "lemmatizer = WordNetLemmatizer()\n",
    "def load_emails(directory, label):\n",
    "    emails = []\n",
    "    for filename in os.listdir(directory):\n",
    "        with open(os.path.join(directory, filename), encoding='latin1') as f: \n",
    "            emails.append((clean_email(f.read()), label))\n",
    "    return emails\n",
    "\n",
    "ham_emails = load_emails(ham_dir, 0) + load_emails(easy_ham, 0) + load_emails(easy_ham_2, 0)\n",
    "spam_emails = load_emails(spam_dir, 1) + load_emails(spam_2, 0)\n",
    "#print(spam_emails[:5])\n",
    "# Combine and shuffle\n",
    "import random\n",
    "all_emails = ham_emails + spam_emails\n",
    "random.shuffle(all_emails)\n",
    "\n",
    "texts, labels = zip(*all_emails)\n",
    "print(len(texts), len(labels))"
   ]
  },
  {
   "cell_type": "code",
   "execution_count": 19,
   "id": "0e8423e5-ee05-4265-aaf1-600f81b108d3",
   "metadata": {},
   "outputs": [
    {
     "name": "stdout",
     "output_type": "stream",
     "text": [
      "(9354, 1) (5572, 1)\n",
      "(14926,)\n",
      "(14926,)\n"
     ]
    }
   ],
   "source": [
    "#Merging both data\n",
    "z = np.array(texts, dtype=object).reshape(-1, 1)\n",
    "print(z.shape, X.shape)\n",
    "X = np.append(X, z)\n",
    "print(X.shape)\n",
    "l = np.array(labels, dtype=int).reshape(-1,1)\n",
    "y = np.append(y, l)\n",
    "print(y.shape)"
   ]
  },
  {
   "cell_type": "code",
   "execution_count": 21,
   "id": "fb9a7122-4dd2-4a39-bf07-7fac676bbadb",
   "metadata": {},
   "outputs": [
    {
     "name": "stdout",
     "output_type": "stream",
     "text": [
      "(4477,) (10449,) (4477,) (10449,)\n",
      "(5224,) (5225,) (5224,) (5225,)\n"
     ]
    }
   ],
   "source": [
    "#dividing the data\n",
    "X_train, X_test, y_train, y_test = train_test_split(\n",
    "    X, y, test_size=0.7, random_state=42\n",
    ")\n",
    "print(X_train.shape, X_test.shape, y_train.shape, y_test.shape)\n",
    "X_cv, X_test, y_cv, y_test = train_test_split(\n",
    "    X_test, y_test, test_size=0.5, random_state=42\n",
    ")\n",
    "print(X_cv.shape, X_test.shape, y_cv.shape, y_test.shape)"
   ]
  },
  {
   "cell_type": "code",
   "execution_count": 23,
   "id": "bd0ba272-b787-4473-a9b9-fac8ff856d12",
   "metadata": {},
   "outputs": [],
   "source": [
    "from sklearn.feature_extraction.text import CountVectorizer\n",
    "\n",
    "# Initialize CountVectorizer\n",
    "vectorizer_cv = CountVectorizer(ngram_range=(1, 2), min_df=5, max_df=0.95)\n",
    "\n",
    "# Fit and transform the cleaned email text\n",
    "X_train_vec_cv = vectorizer_cv.fit_transform(X_train.ravel())\n",
    "X_cv_vec_cv = vectorizer_cv.transform(X_cv.ravel())   "
   ]
  },
  {
   "cell_type": "code",
   "execution_count": 25,
   "id": "bda4da8a-e7ee-42f2-aae7-7037a7347e9f",
   "metadata": {},
   "outputs": [
    {
     "name": "stdout",
     "output_type": "stream",
     "text": [
      "(4477, 23195)   (0, 8209)\t0.5832035257096838\n",
      "  (0, 7527)\t0.3831393295691424\n",
      "  (0, 5762)\t0.7162945635261392\n"
     ]
    }
   ],
   "source": [
    "from sklearn.feature_extraction.text import TfidfVectorizer\n",
    "\n",
    "#vectorizing the msgs/emails\n",
    "vectorizer = TfidfVectorizer(stop_words='english', ngram_range=(1,2), max_df=0.95, min_df=5)\n",
    "X_train_vec = vectorizer.fit_transform(X_train.ravel())   # Fit on train\n",
    "print(X_train_vec.shape, X_train_vec[:1])\n",
    "X_cv_vec = vectorizer.transform(X_cv.ravel())   "
   ]
  },
  {
   "cell_type": "code",
   "execution_count": 37,
   "id": "118cca13-41ec-49ee-aa58-4142f754627f",
   "metadata": {},
   "outputs": [
    {
     "name": "stdout",
     "output_type": "stream",
     "text": [
      "              precision    recall  f1-score   support\n",
      "\n",
      "           0       0.99      0.86      0.92      4618\n",
      "           1       0.47      0.96      0.63       606\n",
      "\n",
      "    accuracy                           0.87      5224\n",
      "   macro avg       0.73      0.91      0.77      5224\n",
      "weighted avg       0.93      0.87      0.89      5224\n",
      "\n",
      "Accuracy: 0.8677258805513017\n"
     ]
    }
   ],
   "source": [
    "# Fit Naive Bayes - using Count Vector\n",
    "nb_model_cv = MultinomialNB(class_prior=[0.5, 0.5])\n",
    "nb_model_cv.fit(X_train_vec_cv, y_train)\n",
    "y_pred_nb_cv = nb_model_cv.predict_proba(X_cv_vec_cv)[:, 1]\n",
    "threshold = 0.8\n",
    "y_pred_custom_cv = (y_pred_nb_cv >= threshold).astype(int)\n",
    "print(classification_report(y_cv, y_pred_custom_cv))\n",
    "print(\"Accuracy:\", accuracy_score(y_cv, y_pred_custom_cv))"
   ]
  },
  {
   "cell_type": "code",
   "execution_count": 41,
   "id": "1c2e2b40-593b-499c-8b5d-4ee310670c98",
   "metadata": {},
   "outputs": [
    {
     "name": "stdout",
     "output_type": "stream",
     "text": [
      "              precision    recall  f1-score   support\n",
      "\n",
      "           0       0.94      0.98      0.96      4618\n",
      "           1       0.74      0.52      0.61       606\n",
      "\n",
      "    accuracy                           0.92      5224\n",
      "   macro avg       0.84      0.75      0.78      5224\n",
      "weighted avg       0.92      0.92      0.92      5224\n",
      "\n",
      "Accuracy: 0.9228560490045942\n"
     ]
    }
   ],
   "source": [
    "# Fit Naive Bayes - using Tf-idf\n",
    "nb_model = MultinomialNB(class_prior=[0.5, 0.5])\n",
    "nb_model.fit(X_train_vec, y_train)\n",
    "y_pred_nb = nb_model.predict(X_cv_vec)\n",
    "threshold = 0.8\n",
    "y_pred_custom = (y_pred_nb >= threshold).astype(int)\n",
    "print(classification_report(y_cv, y_pred_custom))\n",
    "print(\"Accuracy:\", accuracy_score(y_cv, y_pred_custom))"
   ]
  },
  {
   "cell_type": "code",
   "execution_count": 53,
   "id": "afa7542f-109b-4a15-830c-69ea240058a2",
   "metadata": {},
   "outputs": [
    {
     "name": "stdout",
     "output_type": "stream",
     "text": [
      "              precision    recall  f1-score   support\n",
      "\n",
      "           0       0.99      0.99      0.99      4618\n",
      "           1       0.94      0.92      0.93       606\n",
      "\n",
      "    accuracy                           0.98      5224\n",
      "   macro avg       0.96      0.96      0.96      5224\n",
      "weighted avg       0.98      0.98      0.98      5224\n",
      "\n",
      "Accuracy: 0.983728943338438\n"
     ]
    }
   ],
   "source": [
    "#logistic regression - using Count Vector\n",
    "lr_model_cv = LogisticRegression(class_weight='balanced', max_iter=1000)\n",
    "lr_model_cv.fit(X_train_vec_cv, y_train)\n",
    "y_pred_lr_cv = lr_model_cv.predict(X_cv_vec_cv)\n",
    "print(classification_report(y_cv, y_pred_lr_cv))\n",
    "print(\"Accuracy:\", accuracy_score(y_cv, y_pred_lr_cv))"
   ]
  },
  {
   "cell_type": "code",
   "execution_count": 55,
   "id": "b0c55e14-a028-4a54-bdcc-83031c021beb",
   "metadata": {},
   "outputs": [
    {
     "name": "stdout",
     "output_type": "stream",
     "text": [
      "              precision    recall  f1-score   support\n",
      "\n",
      "           0       0.99      0.98      0.98      4618\n",
      "           1       0.84      0.93      0.88       606\n",
      "\n",
      "    accuracy                           0.97      5224\n",
      "   macro avg       0.91      0.95      0.93      5224\n",
      "weighted avg       0.97      0.97      0.97      5224\n",
      "\n",
      "Accuracy: 0.97052067381317\n"
     ]
    }
   ],
   "source": [
    "#logistic regression - using Tf-idf\n",
    "lr_model = LogisticRegression(class_weight='balanced', max_iter=1000)\n",
    "lr_model.fit(X_train_vec, y_train)\n",
    "y_pred_lr = lr_model.predict(X_cv_vec)\n",
    "print(classification_report(y_cv, y_pred_lr))\n",
    "print(\"Accuracy:\", accuracy_score(y_cv, y_pred_lr))"
   ]
  },
  {
   "cell_type": "code",
   "execution_count": 57,
   "id": "9da1a09e-f2c8-4a85-9a9f-8c2807f8f94f",
   "metadata": {},
   "outputs": [
    {
     "name": "stdout",
     "output_type": "stream",
     "text": [
      "Random Forest Results:\n",
      "              precision    recall  f1-score   support\n",
      "\n",
      "           0       0.98      1.00      0.99      4618\n",
      "           1       0.96      0.84      0.90       606\n",
      "\n",
      "    accuracy                           0.98      5224\n",
      "   macro avg       0.97      0.92      0.94      5224\n",
      "weighted avg       0.98      0.98      0.98      5224\n",
      "\n",
      "Accuracy: 0.9776033690658499\n"
     ]
    }
   ],
   "source": [
    "#Random Forest Classifier - using Count Vector\n",
    "rf_model_cv = RandomForestClassifier(n_estimators=100, class_weight='balanced', random_state=42)\n",
    "rf_model_cv.fit(X_train_vec_cv, y_train)\n",
    "\n",
    "y_pred_rf_cv = rf_model_cv.predict(X_cv_vec_cv)\n",
    "print(\"Random Forest Results:\")\n",
    "print(classification_report(y_cv, y_pred_rf_cv))\n",
    "print(\"Accuracy:\", accuracy_score(y_cv, y_pred_rf_cv))"
   ]
  },
  {
   "cell_type": "code",
   "execution_count": 61,
   "id": "d34a410a-4f2f-44be-8923-096385686603",
   "metadata": {},
   "outputs": [
    {
     "name": "stdout",
     "output_type": "stream",
     "text": [
      "Random Forest Results:\n",
      "              precision    recall  f1-score   support\n",
      "\n",
      "           0       0.98      1.00      0.99      4618\n",
      "           1       0.99      0.83      0.90       606\n",
      "\n",
      "    accuracy                           0.98      5224\n",
      "   macro avg       0.99      0.91      0.95      5224\n",
      "weighted avg       0.98      0.98      0.98      5224\n",
      "\n",
      "Accuracy: 0.9795176110260337\n"
     ]
    }
   ],
   "source": [
    "#Random Forest Classifier - using tf-idf\n",
    "rf_model = RandomForestClassifier(n_estimators=100, class_weight='balanced', random_state=42)\n",
    "rf_model.fit(X_train_vec, y_train)\n",
    "\n",
    "y_pred_rf = rf_model.predict(X_cv_vec)\n",
    "print(\"Random Forest Results:\")\n",
    "print(classification_report(y_cv, y_pred_rf))\n",
    "print(\"Accuracy:\", accuracy_score(y_cv, y_pred_rf))"
   ]
  },
  {
   "cell_type": "code",
   "execution_count": 67,
   "id": "59b78d48-50c7-4e30-87bc-050a190aaee6",
   "metadata": {},
   "outputs": [
    {
     "name": "stdout",
     "output_type": "stream",
     "text": [
      "XGBoost Results:\n",
      "              precision    recall  f1-score   support\n",
      "\n",
      "           0       0.99      1.00      0.99      4618\n",
      "           1       0.96      0.90      0.93       606\n",
      "\n",
      "    accuracy                           0.98      5224\n",
      "   macro avg       0.97      0.95      0.96      5224\n",
      "weighted avg       0.98      0.98      0.98      5224\n",
      "\n",
      "Accuracy: 0.9841117917304747\n"
     ]
    }
   ],
   "source": [
    "#XGBoost Model - using Count Vector\n",
    "from xgboost import XGBClassifier\n",
    "\n",
    "xgb_model_cv = XGBClassifier(eval_metric='logloss')\n",
    "xgb_model_cv.fit(X_train_vec_cv, y_train)\n",
    "\n",
    "y_pred_xgb_cv = xgb_model_cv.predict(X_cv_vec_cv)\n",
    "print(\"XGBoost Results:\")\n",
    "print(classification_report(y_cv, y_pred_xgb_cv))\n",
    "print(\"Accuracy:\", accuracy_score(y_cv, y_pred_xgb_cv))"
   ]
  },
  {
   "cell_type": "code",
   "execution_count": 71,
   "id": "0f65b9a8-8b3c-4345-965e-8ab27a3b2c32",
   "metadata": {},
   "outputs": [
    {
     "name": "stdout",
     "output_type": "stream",
     "text": [
      "XGBoost Results:\n",
      "              precision    recall  f1-score   support\n",
      "\n",
      "           0       0.99      1.00      0.99      4618\n",
      "           1       0.97      0.89      0.92       606\n",
      "\n",
      "    accuracy                           0.98      5224\n",
      "   macro avg       0.98      0.94      0.96      5224\n",
      "weighted avg       0.98      0.98      0.98      5224\n",
      "\n",
      "Accuracy: 0.9831546707503829\n"
     ]
    }
   ],
   "source": [
    "#XGBoost Model - using tf-idf\n",
    "from xgboost import XGBClassifier\n",
    "\n",
    "xgb_model = XGBClassifier(eval_metric='logloss')\n",
    "xgb_model.fit(X_train_vec, y_train)\n",
    "\n",
    "y_pred_xgb = xgb_model.predict(X_cv_vec)\n",
    "print(\"XGBoost Results:\")\n",
    "print(classification_report(y_cv, y_pred_xgb))\n",
    "print(\"Accuracy:\", accuracy_score(y_cv, y_pred_xgb))"
   ]
  },
  {
   "cell_type": "code",
   "execution_count": 113,
   "id": "13257aee-04ff-4948-9365-3157986ac755",
   "metadata": {},
   "outputs": [
    {
     "data": {
      "image/png": "[encoded data removed]",
      "text/plain": [
       "<Figure size 1000x800 with 8 Axes>"
      ]
     },
     "metadata": {},
     "output_type": "display_data"
    }
   ],
   "source": [
    "fig, axes = plt.subplots(2, 2, figsize=(10, 8))\n",
    "\n",
    "# Flatten the axes array for easier iteration\n",
    "axes = axes.flatten()\n",
    "\n",
    "# Plot Naive Bayes Confusion Matrix\n",
    "ConfusionMatrixDisplay.from_predictions(y_cv, y_pred_custom, normalize='true', ax=axes[0], cmap='Blues')\n",
    "axes[0].set_title(\"Naive Bayes Matrix - tfidf\")\n",
    "\n",
    "# Plot Logistic Regression Confusion Matrix\n",
    "ConfusionMatrixDisplay.from_predictions(y_cv, y_pred_lr_cv, normalize='true', ax=axes[1], cmap='Blues')\n",
    "axes[1].set_title(\"Logistic Regression Matrix - Count Vector\")\n",
    "\n",
    "# Plot Random Forest Confusion Matrix\n",
    "ConfusionMatrixDisplay.from_predictions(y_cv, y_pred_rf, normalize='true', ax=axes[2], cmap='Blues')\n",
    "axes[2].set_title(\"Random Forest Matrix - tfidf\") # Added \"Confusion Matrix\" for consistency\n",
    "\n",
    "# Plot XGBoost Confusion Matrix\n",
    "ConfusionMatrixDisplay.from_predictions(y_cv, y_pred_xgb_cv, normalize='true', ax=axes[3], cmap='Blues')\n",
    "axes[3].set_title(\"XGBoost Matrix - Count Vector\") # Added \"Confusion Matrix\" for consistency\n",
    "\n",
    "# Adjust layout to prevent titles/labels from overlapping\n",
    "plt.tight_layout()\n",
    "\n",
    "# Display the plots\n",
    "plt.show()\n"
   ]
  },
  {
   "cell_type": "code",
   "execution_count": null,
   "id": "4cf0485e-6119-4021-b69d-0506a6bd7711",
   "metadata": {},
   "outputs": [],
   "source": []
  }
 ],
 "metadata": {
  "kernelspec": {
   "display_name": "Python [conda env:base] *",
   "language": "python",
   "name": "conda-base-py"
  },
  "language_info": {
   "codemirror_mode": {
    "name": "ipython",
    "version": 3
   },
   "file_extension": ".py",
   "mimetype": "text/x-python",
   "name": "python",
   "nbconvert_exporter": "python",
   "pygments_lexer": "ipython3",
   "version": "3.12.7"
  }
 },
 "nbformat": 4,
 "nbformat_minor": 5
}
